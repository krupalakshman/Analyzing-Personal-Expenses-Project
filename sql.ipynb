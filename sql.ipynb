{
 "cells": [
  {
   "cell_type": "code",
   "execution_count": 21,
   "metadata": {},
   "outputs": [],
   "source": [
    "import mysql.connector\n",
    "from mysql.connector import Error\n",
    "import pandas as pd"
   ]
  },
  {
   "cell_type": "code",
   "execution_count": 22,
   "metadata": {},
   "outputs": [
    {
     "name": "stdout",
     "output_type": "stream",
     "text": [
      "connection is Secured.\n"
     ]
    }
   ],
   "source": [
    "\n",
    "# Verifying the connection to SQL\n",
    "try:\n",
    "    connection = mysql.connector.connect(\n",
    "    host='localhost',\n",
    "    user=input(\"enter username: \"),\n",
    "    password=input(\"enter Password: \")\n",
    "    )\n",
    "    print(\"connection is Secured.\")\n",
    "\n",
    "except Error as error:\n",
    "    print(f\"Failed to connect to MySQL: {error}\")\n"
   ]
  },
  {
   "cell_type": "code",
   "execution_count": 27,
   "metadata": {},
   "outputs": [],
   "source": [
    "connection.reconnect()"
   ]
  },
  {
   "cell_type": "code",
   "execution_count": 28,
   "metadata": {},
   "outputs": [],
   "source": [
    "create_database_query=\"\"\"\n",
    "CREATE DATABASE IF NOT EXISTS expensetrackerdb\n",
    "\"\"\"\n",
    "\n",
    "# Creating a Table for the Expenses_2023\n",
    "create_table_query = \"\"\"\n",
    "CREATE TABLE IF NOT EXISTS expenses (\n",
    "    Date DATE,\n",
    "    Category VARCHAR(50),\n",
    "    PaymentMode VARCHAR(50),\n",
    "    Description VARCHAR(255),\n",
    "    AmountPaid DECIMAL(10, 2),\n",
    "    Cashback DECIMAL(10, 2)\n",
    ");\n",
    "\"\"\"\n",
    "with connection.cursor() as cursor:\n",
    "    \n",
    "    cursor.execute(create_database_query)\n",
    "    cursor.execute(create_table_query)\n",
    "\n"
   ]
  },
  {
   "cell_type": "code",
   "execution_count": 33,
   "metadata": {},
   "outputs": [
    {
     "name": "stdout",
     "output_type": "stream",
     "text": [
      "Connection is secured.\n"
     ]
    },
    {
     "name": "stderr",
     "output_type": "stream",
     "text": [
      "C:\\Users\\dakoj\\AppData\\Local\\Temp\\ipykernel_12276\\660568597.py:25: UserWarning: Parsing dates in %d-%m-%Y format when dayfirst=False (the default) was specified. Pass `dayfirst=True` or specify a format to silence this warning.\n",
      "  pd.to_datetime(row['Date']).date(),  # Convert to date\n"
     ]
    },
    {
     "name": "stdout",
     "output_type": "stream",
     "text": [
      "Data inserted successfully!\n",
      "Connection closed.\n"
     ]
    }
   ],
   "source": [
    "# Inserting values from csv using pandas\n",
    "\n",
    "df=pd.read_csv(\"expenses_2023.csv\")#path of the expenses file\n",
    "try:\n",
    "    connection = mysql.connector.connect(\n",
    "        host='localhost',\n",
    "        user=input(\"root\"),\n",
    "        password=input(\"123456789\"),\n",
    "        database=\"expensetrackerdb\"  # Use the created database\n",
    "    )\n",
    "    print(\"Connection is secured.\")\n",
    "    \n",
    "\n",
    "\n",
    "    # Reconnect if needed\n",
    "    connection.reconnect()\n",
    "\n",
    "    for _, row in df.iterrows():\n",
    "        insert_query = \"\"\"\n",
    "            INSERT INTO expenses (Date, Category, PaymentMode, Description, AmountPaid, Cashback)\n",
    "            VALUES (%s, %s, %s, %s, %s, %s)\n",
    "            \"\"\"\n",
    "\n",
    "        data_tuple = (\n",
    "            pd.to_datetime(row['Date']).date(),  # Convert to date\n",
    "            row['Category'],\n",
    "            row['Payment Mode'],\n",
    "            row['Description'],\n",
    "            row['Amount Paid'],\n",
    "            row['Cashback']\n",
    "        )\n",
    "        with connection.cursor() as cursor:\n",
    "                cursor.execute(insert_query, data_tuple)\n",
    "            \n",
    "            \n",
    "    connection.commit()\n",
    "    print(\"Data inserted successfully!\")\n",
    "\n",
    "\n",
    "except Error as error:\n",
    "    print(f\"Failed to connect to MySQL: {error}\")\n",
    "\n",
    "finally:\n",
    "    if connection.is_connected():\n",
    "        connection.close()\n",
    "        print(\"Connection closed.\")"
   ]
  }
 ],
 "metadata": {
  "kernelspec": {
   "display_name": "mysql",
   "language": "python",
   "name": "python3"
  },
  "language_info": {
   "codemirror_mode": {
    "name": "ipython",
    "version": 3
   },
   "file_extension": ".py",
   "mimetype": "text/x-python",
   "name": "python",
   "nbconvert_exporter": "python",
   "pygments_lexer": "ipython3",
   "version": "3.11.10"
  }
 },
 "nbformat": 4,
 "nbformat_minor": 2
}
