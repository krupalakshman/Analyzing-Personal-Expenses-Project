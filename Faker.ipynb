{
 "cells": [
  {
   "cell_type": "code",
   "execution_count": 1,
   "metadata": {},
   "outputs": [],
   "source": [
    "# pip install faker(run if faker is not insatlled)"
   ]
  },
  {
   "cell_type": "code",
   "execution_count": 2,
   "metadata": {},
   "outputs": [],
   "source": [
    "from faker import Faker\n",
    "import random\n",
    "import pandas as pd\n",
    "from datetime import datetime, timedelta"
   ]
  },
  {
   "cell_type": "code",
   "execution_count": 3,
   "metadata": {},
   "outputs": [],
   "source": [
    "# Initialize Faker\n",
    "fake = Faker()\n",
    "\n",
    "# Set seed value\n",
    "Faker.seed(21)\n",
    "\n"
   ]
  },
  {
   "cell_type": "code",
   "execution_count": 4,
   "metadata": {},
   "outputs": [],
   "source": [
    "# Defining Categories and related subcategories\n",
    "payment_modes = ['UPI', 'Credit Card', 'Debit Card', 'Net Banking', 'Cash']\n",
    "categories = ['Groceries', 'Bills', 'Subscriptions', 'Entertainment', 'Travel', 'Shopping', 'Healthcare', 'Education', 'Miscellaneous']\n",
    "\n",
    "# Subcategories\n",
    "groceries = ['Fruits', 'Vegetables', 'Dairy', 'Meat','Bakery', 'Pantry', 'Snacks', 'Beverages','Household', 'Pet Food']\n",
    "bills = ['Water Bill', 'Electricity Bill', 'Gas Bill', 'Internet Bill', 'Mobile Bill', 'Cable Bill', 'Insurance Bill']\n",
    "subscriptions = ['Netflix', 'Amazon Prime', 'Spotify', 'Gym', 'Music', 'Software']\n",
    "entertainment = ['Movie Tickets', 'Concert Tickets', 'Gaming', 'Music','Sports', 'Hobbies']\n",
    "travel = ['Cab Fare', 'Flight ticket', 'Train ticket', 'Hotel', 'Bus ticket', 'Fuel Expense']\n",
    "shopping = ['Clothing', 'Electronics', 'Home Goods', 'Beauty','Brought a Gift for Someone']\n",
    "healthcare = ['Doctor\\'s fee', 'Medicine', 'Hospital Bill']\n",
    "education = ['School fee', 'Stationary Stuff','Tuition Fees', 'Books', 'University fee', 'Online course fee']"
   ]
  },
  {
   "cell_type": "code",
   "execution_count": 5,
   "metadata": {},
   "outputs": [],
   "source": [
    "# Generate Descriptions for payments based on category\n",
    "def generate_description(category):\n",
    "    if category == 'Groceries':\n",
    "        return random.choice(groceries)\n",
    "    elif category == 'Bills':\n",
    "        return random.choice(bills)\n",
    "    elif category == 'Subscriptions':\n",
    "        return random.choice(subscriptions)\n",
    "    elif category == 'Travel':\n",
    "        return random.choice(travel)\n",
    "    elif category == 'Entertainment':\n",
    "        return random.choice(entertainment)\n",
    "    elif category == 'Shopping':\n",
    "        return random.choice(shopping)\n",
    "    elif category == 'Healthcare':\n",
    "        return random.choice(healthcare)\n",
    "    elif category == 'Education':\n",
    "        return random.choice(education)\n",
    "    else:\n",
    "        return 'Miscellanoues Expense'\n"
   ]
  },
  {
   "cell_type": "code",
   "execution_count": 6,
   "metadata": {},
   "outputs": [],
   "source": [
    "# Function to generate random expense data\n",
    "def generate_expense_data(year, month, num_records):\n",
    "    data = []\n",
    "    start_date = datetime(year, month, 1)\n",
    "    days_in_month = (start_date.replace(month=month % 12 + 1, day=1) - timedelta(days=1)).day\n",
    "\n",
    "    for _ in range(num_records):\n",
    "        # Assign realistic day and time\n",
    "        day_offset = random.randint(0, days_in_month - 1)\n",
    "        date = start_date + timedelta(days=day_offset)\n",
    "        time = fake.time_object()  # Random time of the day\n",
    "        timestamp = datetime.combine(date, time)\n",
    "\n",
    "        # Category-based realistic adjustments\n",
    "        category = random.choice(categories)\n",
    "        if category == 'Travel' and month not in [5, 6, 12]:\n",
    "            category = random.choice([c for c in categories if c != 'Travel'])\n",
    "        if category == 'Education' and month not in [7, 8]:\n",
    "            category = random.choice([c for c in categories if c != 'Education'])\n",
    "\n",
    "        payment_mode = random.choice(payment_modes)\n",
    "        description = generate_description(category)\n",
    "\n",
    "        # Amount paid and cashback logic\n",
    "        if category in ['Travel', 'Healthcare']:\n",
    "            amount_paid = round(random.uniform(50.0, 5000.0), 2)\n",
    "        else:\n",
    "            amount_paid = round(random.uniform(1.0, 1000.0), 2)\n",
    "\n",
    "        cashback = round(amount_paid * random.uniform(0, 0.1), 2) if payment_mode in ['UPI', 'Credit Card'] else 0.0\n",
    "\n",
    "        data.append({\n",
    "            \"Date\": date.strftime(\"%Y-%m-%d\"),\n",
    "            \"Category\": category,\n",
    "            \"Payment Mode\": payment_mode,\n",
    "            \"Description\": description,\n",
    "            \"Amount Paid\": amount_paid,\n",
    "            \"Cashback\": cashback,\n",
    "        })\n",
    "\n",
    "    return data"
   ]
  },
  {
   "cell_type": "code",
   "execution_count": 7,
   "metadata": {},
   "outputs": [],
   "source": [
    "# Generate data for 12 months\n",
    "def generate_yearly_data(year, records_per_month):\n",
    "    all_data = {}\n",
    "    for month in range(1, 13):\n",
    "        monthly_data = generate_expense_data(year, month, records_per_month)\n",
    "        all_data[month] = pd.DataFrame(monthly_data)\n",
    "    return all_data"
   ]
  },
  {
   "cell_type": "code",
   "execution_count": 8,
   "metadata": {},
   "outputs": [
    {
     "name": "stdout",
     "output_type": "stream",
     "text": [
      "Data for month 1 saved to expenses_2023_01.csv.\n",
      "Data for month 2 saved to expenses_2023_02.csv.\n",
      "Data for month 3 saved to expenses_2023_03.csv.\n",
      "Data for month 4 saved to expenses_2023_04.csv.\n",
      "Data for month 5 saved to expenses_2023_05.csv.\n",
      "Data for month 6 saved to expenses_2023_06.csv.\n",
      "Data for month 7 saved to expenses_2023_07.csv.\n",
      "Data for month 8 saved to expenses_2023_08.csv.\n",
      "Data for month 9 saved to expenses_2023_09.csv.\n",
      "Data for month 10 saved to expenses_2023_10.csv.\n",
      "Data for month 11 saved to expenses_2023_11.csv.\n",
      "Data for month 12 saved to expenses_2023_12.csv.\n"
     ]
    }
   ],
   "source": [
    "# Generate and save data\n",
    "year = 2023\n",
    "records_per_month = 100  # Number of records per month\n",
    "expense_data = generate_yearly_data(year, records_per_month)\n",
    "\n",
    "# Save data to CSV or prepare for SQL integration\n",
    "for month, df in expense_data.items():\n",
    "    csv_file = f\"expenses_{year}_{month:02d}.csv\"\n",
    "    df.to_csv(csv_file, index=False)\n",
    "    print(f\"Data for month {month} saved to {csv_file}.\")"
   ]
  },
  {
   "cell_type": "code",
   "execution_count": 9,
   "metadata": {},
   "outputs": [
    {
     "ename": "SyntaxError",
     "evalue": "(unicode error) 'unicodeescape' codec can't decode bytes in position 2-3: truncated \\UXXXXXXXX escape (2444212706.py, line 6)",
     "output_type": "error",
     "traceback": [
      "\u001b[1;36m  Cell \u001b[1;32mIn[9], line 6\u001b[1;36m\u001b[0m\n\u001b[1;33m    path ='C:\\Users\\dakoj\\Guvi Course\\Analyzing personal expenses'\u001b[0m\n\u001b[1;37m                                                                  ^\u001b[0m\n\u001b[1;31mSyntaxError\u001b[0m\u001b[1;31m:\u001b[0m (unicode error) 'unicodeescape' codec can't decode bytes in position 2-3: truncated \\UXXXXXXXX escape\n"
     ]
    }
   ],
   "source": [
    "#Combining all the data into a single dataframe and getting output CSV\n",
    "import pandas as pd \n",
    "import glob \n",
    "import os \n",
    "# Define the path to the folder containing the CSV files\n",
    "path ='C:/Users/dakoj/Guvi Course/Analyzing personal expenses'\n",
    "\n",
    "# Use glob to find all CSV files in the folder\n",
    "files = glob.glob(os.path.join(path, \"*.csv\"))\n",
    "\n",
    "# Read all CSV files into a single dataframe\n",
    "df = pd.concat((pd.read_csv(f) for f in files), ignore_index=True)\n",
    "\n",
    "# Save the combined dataframe to a new CSV file\n",
    "df.to_csv('expenses_2023.csv', index=False)\n"
   ]
  }
 ],
 "metadata": {
  "kernelspec": {
   "display_name": "mysql",
   "language": "python",
   "name": "python3"
  },
  "language_info": {
   "codemirror_mode": {
    "name": "ipython",
    "version": 3
   },
   "file_extension": ".py",
   "mimetype": "text/x-python",
   "name": "python",
   "nbconvert_exporter": "python",
   "pygments_lexer": "ipython3",
   "version": "3.11.10"
  }
 },
 "nbformat": 4,
 "nbformat_minor": 2
}
